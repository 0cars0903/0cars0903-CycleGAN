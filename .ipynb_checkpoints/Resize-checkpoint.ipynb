{
 "cells": [
  {
   "cell_type": "code",
   "execution_count": 1,
   "id": "a93154ac",
   "metadata": {},
   "outputs": [],
   "source": [
    "import numpy as np\n",
    "import cv2\n",
    "%matplotlib inline\n",
    "import matplotlib.pyplot as plt"
   ]
  },
  {
   "cell_type": "code",
   "execution_count": 3,
   "id": "d5374766",
   "metadata": {},
   "outputs": [
    {
     "name": "stdout",
     "output_type": "stream",
     "text": [
      "C:\\Users\\piai\\Desktop\\work\\CycleGAN_project\n"
     ]
    }
   ],
   "source": [
    "%cd C:\\Users\\piai\\Desktop\\work\\CycleGAN_project"
   ]
  },
  {
   "cell_type": "code",
   "execution_count": 4,
   "id": "8d84da06",
   "metadata": {},
   "outputs": [],
   "source": [
    "# Data Load\n",
    "def load_data_png(DIR_img, name):\n",
    "    # 이미지 불러오기\n",
    "    img_name = DIR_img + name + \".png\"\n",
    "    img = cv2.imread(img_name)\n",
    "    resize_img = cv2.resize(img, (256, 256))\n",
    "    cvt_img = cv2.cvtColor(resize_img, cv2.COLOR_BGR2RGB)\n",
    "\n",
    "    return cvt_img\n",
    "\n",
    "# 출력 및 저장\n",
    "def print_img_png(DIR_save, cvt_img):\n",
    "#     plt.imshow(cvt_img)\n",
    "    cvt_img = cv2.cvtColor(cvt_img, cv2.COLOR_RGB2BGR)\n",
    "    cv2.imwrite(DIR_save + name + '_resize'+'.png', cvt_img)\n",
    "    \n",
    "# Data Load\n",
    "def load_data_jpg(DIR_img, name):\n",
    "    # 이미지 불러오기\n",
    "    img_name = DIR_img + name + \".jpg\"\n",
    "    img = cv2.imread(img_name)\n",
    "    resize_img = cv2.resize(img, (256, 256))\n",
    "    cvt_img = cv2.cvtColor(resize_img, cv2.COLOR_BGR2RGB)\n",
    "\n",
    "    return cvt_img\n",
    "\n",
    "# 출력 및 저장\n",
    "def print_img_jpg(DIR_save, cvt_img):\n",
    "#     plt.imshow(cvt_img)\n",
    "    cvt_img = cv2.cvtColor(cvt_img, cv2.COLOR_RGB2BGR)\n",
    "    cv2.imwrite(DIR_save + name + '_resize'+'.jpg', cvt_img)"
   ]
  },
  {
   "cell_type": "code",
   "execution_count": 19,
   "id": "99af57cc",
   "metadata": {},
   "outputs": [
    {
     "ename": "error",
     "evalue": "OpenCV(4.7.0) D:\\a\\opencv-python\\opencv-python\\opencv\\modules\\imgproc\\src\\resize.cpp:4062: error: (-215:Assertion failed) !ssize.empty() in function 'cv::resize'\n",
     "output_type": "error",
     "traceback": [
      "\u001b[1;31m---------------------------------------------------------------------------\u001b[0m",
      "\u001b[1;31merror\u001b[0m                                     Traceback (most recent call last)",
      "Cell \u001b[1;32mIn[19], line 11\u001b[0m\n\u001b[0;32m      8\u001b[0m a_txt\u001b[38;5;241m.\u001b[39mclose\n\u001b[0;32m     10\u001b[0m \u001b[38;5;28;01mfor\u001b[39;00m name \u001b[38;5;129;01min\u001b[39;00m name_lst:\n\u001b[1;32m---> 11\u001b[0m     cvt_img \u001b[38;5;241m=\u001b[39m \u001b[43mload_data_jpg\u001b[49m\u001b[43m(\u001b[49m\u001b[43mDIR_img\u001b[49m\u001b[43m,\u001b[49m\u001b[43m \u001b[49m\u001b[43mname\u001b[49m\u001b[43m)\u001b[49m\n\u001b[0;32m     12\u001b[0m     print_img_jpg(DIR_save, cvt_img)\n",
      "Cell \u001b[1;32mIn[4], line 22\u001b[0m, in \u001b[0;36mload_data_jpg\u001b[1;34m(DIR_img, name)\u001b[0m\n\u001b[0;32m     20\u001b[0m img_name \u001b[38;5;241m=\u001b[39m DIR_img \u001b[38;5;241m+\u001b[39m name \u001b[38;5;241m+\u001b[39m \u001b[38;5;124m\"\u001b[39m\u001b[38;5;124m.jpg\u001b[39m\u001b[38;5;124m\"\u001b[39m\n\u001b[0;32m     21\u001b[0m img \u001b[38;5;241m=\u001b[39m cv2\u001b[38;5;241m.\u001b[39mimread(img_name)\n\u001b[1;32m---> 22\u001b[0m resize_img \u001b[38;5;241m=\u001b[39m \u001b[43mcv2\u001b[49m\u001b[38;5;241;43m.\u001b[39;49m\u001b[43mresize\u001b[49m\u001b[43m(\u001b[49m\u001b[43mimg\u001b[49m\u001b[43m,\u001b[49m\u001b[43m \u001b[49m\u001b[43m(\u001b[49m\u001b[38;5;241;43m256\u001b[39;49m\u001b[43m,\u001b[49m\u001b[43m \u001b[49m\u001b[38;5;241;43m256\u001b[39;49m\u001b[43m)\u001b[49m\u001b[43m)\u001b[49m\n\u001b[0;32m     23\u001b[0m cvt_img \u001b[38;5;241m=\u001b[39m cv2\u001b[38;5;241m.\u001b[39mcvtColor(resize_img, cv2\u001b[38;5;241m.\u001b[39mCOLOR_BGR2RGB)\n\u001b[0;32m     25\u001b[0m \u001b[38;5;28;01mreturn\u001b[39;00m cvt_img\n",
      "\u001b[1;31merror\u001b[0m: OpenCV(4.7.0) D:\\a\\opencv-python\\opencv-python\\opencv\\modules\\imgproc\\src\\resize.cpp:4062: error: (-215:Assertion failed) !ssize.empty() in function 'cv::resize'\n"
     ]
    }
   ],
   "source": [
    "DIR_img = \"./video/video1_testA/\"\n",
    "DIR_save = \"./datasets/PN2PG/test/A/\"\n",
    "\n",
    "a_txt = open(DIR_img + 'list.txt', 'r')\n",
    "name_lst = []\n",
    "for line in a_txt:\n",
    "    name_lst.append(line.strip()[63:-4])\n",
    "a_txt.close\n",
    "\n",
    "for name in name_lst:\n",
    "    cvt_img = load_data_jpg(DIR_img, name)\n",
    "    print_img_jpg(DIR_save, cvt_img)"
   ]
  },
  {
   "cell_type": "code",
   "execution_count": 20,
   "id": "9c970ef3",
   "metadata": {},
   "outputs": [
    {
     "ename": "error",
     "evalue": "OpenCV(4.7.0) D:\\a\\opencv-python\\opencv-python\\opencv\\modules\\imgproc\\src\\resize.cpp:4062: error: (-215:Assertion failed) !ssize.empty() in function 'cv::resize'\n",
     "output_type": "error",
     "traceback": [
      "\u001b[1;31m---------------------------------------------------------------------------\u001b[0m",
      "\u001b[1;31merror\u001b[0m                                     Traceback (most recent call last)",
      "Cell \u001b[1;32mIn[20], line 11\u001b[0m\n\u001b[0;32m      8\u001b[0m a_txt\u001b[38;5;241m.\u001b[39mclose\n\u001b[0;32m     10\u001b[0m \u001b[38;5;28;01mfor\u001b[39;00m name \u001b[38;5;129;01min\u001b[39;00m name_lst:\n\u001b[1;32m---> 11\u001b[0m     cvt_img \u001b[38;5;241m=\u001b[39m \u001b[43mload_data_jpg\u001b[49m\u001b[43m(\u001b[49m\u001b[43mDIR_img\u001b[49m\u001b[43m,\u001b[49m\u001b[43m \u001b[49m\u001b[43mname\u001b[49m\u001b[43m)\u001b[49m\n\u001b[0;32m     12\u001b[0m     print_img_jpg(DIR_save, cvt_img)\n",
      "Cell \u001b[1;32mIn[4], line 22\u001b[0m, in \u001b[0;36mload_data_jpg\u001b[1;34m(DIR_img, name)\u001b[0m\n\u001b[0;32m     20\u001b[0m img_name \u001b[38;5;241m=\u001b[39m DIR_img \u001b[38;5;241m+\u001b[39m name \u001b[38;5;241m+\u001b[39m \u001b[38;5;124m\"\u001b[39m\u001b[38;5;124m.jpg\u001b[39m\u001b[38;5;124m\"\u001b[39m\n\u001b[0;32m     21\u001b[0m img \u001b[38;5;241m=\u001b[39m cv2\u001b[38;5;241m.\u001b[39mimread(img_name)\n\u001b[1;32m---> 22\u001b[0m resize_img \u001b[38;5;241m=\u001b[39m \u001b[43mcv2\u001b[49m\u001b[38;5;241;43m.\u001b[39;49m\u001b[43mresize\u001b[49m\u001b[43m(\u001b[49m\u001b[43mimg\u001b[49m\u001b[43m,\u001b[49m\u001b[43m \u001b[49m\u001b[43m(\u001b[49m\u001b[38;5;241;43m256\u001b[39;49m\u001b[43m,\u001b[49m\u001b[43m \u001b[49m\u001b[38;5;241;43m256\u001b[39;49m\u001b[43m)\u001b[49m\u001b[43m)\u001b[49m\n\u001b[0;32m     23\u001b[0m cvt_img \u001b[38;5;241m=\u001b[39m cv2\u001b[38;5;241m.\u001b[39mcvtColor(resize_img, cv2\u001b[38;5;241m.\u001b[39mCOLOR_BGR2RGB)\n\u001b[0;32m     25\u001b[0m \u001b[38;5;28;01mreturn\u001b[39;00m cvt_img\n",
      "\u001b[1;31merror\u001b[0m: OpenCV(4.7.0) D:\\a\\opencv-python\\opencv-python\\opencv\\modules\\imgproc\\src\\resize.cpp:4062: error: (-215:Assertion failed) !ssize.empty() in function 'cv::resize'\n"
     ]
    }
   ],
   "source": [
    "DIR_img = \"./video/video1_testB/\"\n",
    "DIR_save = \"./datasets/PN2PG/test/B/\"\n",
    "\n",
    "a_txt = open(DIR_img + 'list.txt', 'r')\n",
    "name_lst = []\n",
    "for line in a_txt:\n",
    "    name_lst.append(line.strip()[63:-4])\n",
    "a_txt.close\n",
    "\n",
    "for name in name_lst:\n",
    "    cvt_img = load_data_jpg(DIR_img, name)\n",
    "    print_img_jpg(DIR_save, cvt_img)"
   ]
  },
  {
   "cell_type": "code",
   "execution_count": 17,
   "id": "9c0ca510",
   "metadata": {},
   "outputs": [
    {
     "ename": "error",
     "evalue": "OpenCV(4.7.0) D:\\a\\opencv-python\\opencv-python\\opencv\\modules\\imgproc\\src\\resize.cpp:4062: error: (-215:Assertion failed) !ssize.empty() in function 'cv::resize'\n",
     "output_type": "error",
     "traceback": [
      "\u001b[1;31m---------------------------------------------------------------------------\u001b[0m",
      "\u001b[1;31merror\u001b[0m                                     Traceback (most recent call last)",
      "Cell \u001b[1;32mIn[17], line 11\u001b[0m\n\u001b[0;32m      8\u001b[0m a_txt\u001b[38;5;241m.\u001b[39mclose\n\u001b[0;32m     10\u001b[0m \u001b[38;5;28;01mfor\u001b[39;00m name \u001b[38;5;129;01min\u001b[39;00m name_lst:\n\u001b[1;32m---> 11\u001b[0m     cvt_img \u001b[38;5;241m=\u001b[39m \u001b[43mload_data_jpg\u001b[49m\u001b[43m(\u001b[49m\u001b[43mDIR_img\u001b[49m\u001b[43m,\u001b[49m\u001b[43m \u001b[49m\u001b[43mname\u001b[49m\u001b[43m)\u001b[49m\n\u001b[0;32m     12\u001b[0m     print_img_jpg(DIR_save, cvt_img)\n",
      "Cell \u001b[1;32mIn[4], line 22\u001b[0m, in \u001b[0;36mload_data_jpg\u001b[1;34m(DIR_img, name)\u001b[0m\n\u001b[0;32m     20\u001b[0m img_name \u001b[38;5;241m=\u001b[39m DIR_img \u001b[38;5;241m+\u001b[39m name \u001b[38;5;241m+\u001b[39m \u001b[38;5;124m\"\u001b[39m\u001b[38;5;124m.jpg\u001b[39m\u001b[38;5;124m\"\u001b[39m\n\u001b[0;32m     21\u001b[0m img \u001b[38;5;241m=\u001b[39m cv2\u001b[38;5;241m.\u001b[39mimread(img_name)\n\u001b[1;32m---> 22\u001b[0m resize_img \u001b[38;5;241m=\u001b[39m \u001b[43mcv2\u001b[49m\u001b[38;5;241;43m.\u001b[39;49m\u001b[43mresize\u001b[49m\u001b[43m(\u001b[49m\u001b[43mimg\u001b[49m\u001b[43m,\u001b[49m\u001b[43m \u001b[49m\u001b[43m(\u001b[49m\u001b[38;5;241;43m256\u001b[39;49m\u001b[43m,\u001b[49m\u001b[43m \u001b[49m\u001b[38;5;241;43m256\u001b[39;49m\u001b[43m)\u001b[49m\u001b[43m)\u001b[49m\n\u001b[0;32m     23\u001b[0m cvt_img \u001b[38;5;241m=\u001b[39m cv2\u001b[38;5;241m.\u001b[39mcvtColor(resize_img, cv2\u001b[38;5;241m.\u001b[39mCOLOR_BGR2RGB)\n\u001b[0;32m     25\u001b[0m \u001b[38;5;28;01mreturn\u001b[39;00m cvt_img\n",
      "\u001b[1;31merror\u001b[0m: OpenCV(4.7.0) D:\\a\\opencv-python\\opencv-python\\opencv\\modules\\imgproc\\src\\resize.cpp:4062: error: (-215:Assertion failed) !ssize.empty() in function 'cv::resize'\n"
     ]
    }
   ],
   "source": [
    "DIR_img = \"./video/video1_trainA/\"\n",
    "DIR_save = \"./datasets/PN2PG/train/A\"\n",
    "\n",
    "a_txt = open(DIR_img + 'list.txt', 'r')\n",
    "name_lst = []\n",
    "for line in a_txt:\n",
    "    name_lst.append(line.strip()[63:-4])\n",
    "a_txt.close\n",
    "\n",
    "for name in name_lst:\n",
    "    cvt_img = load_data_jpg(DIR_img, name)\n",
    "    print_img_jpg(DIR_save, cvt_img)"
   ]
  },
  {
   "cell_type": "code",
   "execution_count": 18,
   "id": "a6ef6bab",
   "metadata": {},
   "outputs": [
    {
     "ename": "error",
     "evalue": "OpenCV(4.7.0) D:\\a\\opencv-python\\opencv-python\\opencv\\modules\\imgproc\\src\\resize.cpp:4062: error: (-215:Assertion failed) !ssize.empty() in function 'cv::resize'\n",
     "output_type": "error",
     "traceback": [
      "\u001b[1;31m---------------------------------------------------------------------------\u001b[0m",
      "\u001b[1;31merror\u001b[0m                                     Traceback (most recent call last)",
      "Cell \u001b[1;32mIn[18], line 11\u001b[0m\n\u001b[0;32m      8\u001b[0m a_txt\u001b[38;5;241m.\u001b[39mclose\n\u001b[0;32m     10\u001b[0m \u001b[38;5;28;01mfor\u001b[39;00m name \u001b[38;5;129;01min\u001b[39;00m name_lst:\n\u001b[1;32m---> 11\u001b[0m     cvt_img \u001b[38;5;241m=\u001b[39m \u001b[43mload_data_jpg\u001b[49m\u001b[43m(\u001b[49m\u001b[43mDIR_img\u001b[49m\u001b[43m,\u001b[49m\u001b[43m \u001b[49m\u001b[43mname\u001b[49m\u001b[43m)\u001b[49m\n\u001b[0;32m     12\u001b[0m     print_img_jpg(DIR_save, cvt_img)\n",
      "Cell \u001b[1;32mIn[4], line 22\u001b[0m, in \u001b[0;36mload_data_jpg\u001b[1;34m(DIR_img, name)\u001b[0m\n\u001b[0;32m     20\u001b[0m img_name \u001b[38;5;241m=\u001b[39m DIR_img \u001b[38;5;241m+\u001b[39m name \u001b[38;5;241m+\u001b[39m \u001b[38;5;124m\"\u001b[39m\u001b[38;5;124m.jpg\u001b[39m\u001b[38;5;124m\"\u001b[39m\n\u001b[0;32m     21\u001b[0m img \u001b[38;5;241m=\u001b[39m cv2\u001b[38;5;241m.\u001b[39mimread(img_name)\n\u001b[1;32m---> 22\u001b[0m resize_img \u001b[38;5;241m=\u001b[39m \u001b[43mcv2\u001b[49m\u001b[38;5;241;43m.\u001b[39;49m\u001b[43mresize\u001b[49m\u001b[43m(\u001b[49m\u001b[43mimg\u001b[49m\u001b[43m,\u001b[49m\u001b[43m \u001b[49m\u001b[43m(\u001b[49m\u001b[38;5;241;43m256\u001b[39;49m\u001b[43m,\u001b[49m\u001b[43m \u001b[49m\u001b[38;5;241;43m256\u001b[39;49m\u001b[43m)\u001b[49m\u001b[43m)\u001b[49m\n\u001b[0;32m     23\u001b[0m cvt_img \u001b[38;5;241m=\u001b[39m cv2\u001b[38;5;241m.\u001b[39mcvtColor(resize_img, cv2\u001b[38;5;241m.\u001b[39mCOLOR_BGR2RGB)\n\u001b[0;32m     25\u001b[0m \u001b[38;5;28;01mreturn\u001b[39;00m cvt_img\n",
      "\u001b[1;31merror\u001b[0m: OpenCV(4.7.0) D:\\a\\opencv-python\\opencv-python\\opencv\\modules\\imgproc\\src\\resize.cpp:4062: error: (-215:Assertion failed) !ssize.empty() in function 'cv::resize'\n"
     ]
    }
   ],
   "source": [
    "DIR_img = \"./video/video1_trainB/\"\n",
    "DIR_save = \"./datasets/PN2PG/train/B\"\n",
    "\n",
    "a_txt = open(DIR_img + 'list.txt', 'r')\n",
    "name_lst = []\n",
    "for line in a_txt:\n",
    "    name_lst.append(line.strip()[63:-4])\n",
    "a_txt.close\n",
    "\n",
    "for name in name_lst:\n",
    "    cvt_img = load_data_jpg(DIR_img, name)\n",
    "    print_img_jpg(DIR_save, cvt_img)"
   ]
  },
  {
   "cell_type": "code",
   "execution_count": null,
   "id": "f2a83e22",
   "metadata": {},
   "outputs": [],
   "source": []
  }
 ],
 "metadata": {
  "kernelspec": {
   "display_name": "yolov5",
   "language": "python",
   "name": "yolov5"
  },
  "language_info": {
   "codemirror_mode": {
    "name": "ipython",
    "version": 3
   },
   "file_extension": ".py",
   "mimetype": "text/x-python",
   "name": "python",
   "nbconvert_exporter": "python",
   "pygments_lexer": "ipython3",
   "version": "3.8.16"
  }
 },
 "nbformat": 4,
 "nbformat_minor": 5
}
