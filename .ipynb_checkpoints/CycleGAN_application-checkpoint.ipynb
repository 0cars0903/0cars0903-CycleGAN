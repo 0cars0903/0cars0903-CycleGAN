{
 "cells": [
  {
   "cell_type": "code",
   "execution_count": 3,
   "metadata": {
    "colab": {
     "base_uri": "https://localhost:8080/"
    },
    "executionInfo": {
     "elapsed": 3724,
     "status": "ok",
     "timestamp": 1676879827765,
     "user": {
      "displayName": "송준희",
      "userId": "03644037949885701202"
     },
     "user_tz": -540
    },
    "id": "gP8XNaeuqKsJ",
    "outputId": "1a403b6b-361f-465c-e896-0355dbe9f4f5"
   },
   "outputs": [
    {
     "name": "stdout",
     "output_type": "stream",
     "text": [
      "C:\\Users\\piai\\Desktop\\work\\CycleGAN_project\n"
     ]
    }
   ],
   "source": [
    "# from google.colab import drive\n",
    "# drive.mount('/content/drive')\n",
    "\n",
    "%cd C:/Users/piai/Desktop/work/CycleGAN_project"
   ]
  },
  {
   "cell_type": "code",
   "execution_count": null,
   "metadata": {
    "colab": {
     "base_uri": "https://localhost:8080/"
    },
    "executionInfo": {
     "elapsed": 4853,
     "status": "ok",
     "timestamp": 1676879832605,
     "user": {
      "displayName": "송준희",
      "userId": "03644037949885701202"
     },
     "user_tz": -540
    },
    "id": "ez7QTOFmKGad",
    "outputId": "de8ce1b0-c72d-46e6-8ef9-d118a7a29879"
   },
   "outputs": [],
   "source": [
    "!pip install git+https://github.com/tensorflow/examples.git"
   ]
  },
  {
   "cell_type": "code",
   "execution_count": null,
   "metadata": {
    "executionInfo": {
     "elapsed": 18,
     "status": "ok",
     "timestamp": 1676879832606,
     "user": {
      "displayName": "송준희",
      "userId": "03644037949885701202"
     },
     "user_tz": -540
    },
    "id": "X43HIp1lBTUv"
   },
   "outputs": [],
   "source": [
    "import tensorflow as tf\n",
    "from tensorflow_examples.models.pix2pix import pix2pix\n",
    "\n",
    "import os\n",
    "import time\n",
    "import matplotlib.pyplot as plt\n",
    "from IPython.display import clear_output\n",
    "\n",
    "AUTOTUNE = tf.data.AUTOTUNE"
   ]
  },
  {
   "cell_type": "code",
   "execution_count": null,
   "metadata": {
    "executionInfo": {
     "elapsed": 16,
     "status": "ok",
     "timestamp": 1676879832607,
     "user": {
      "displayName": "송준희",
      "userId": "03644037949885701202"
     },
     "user_tz": -540
    },
    "id": "ofRYzIHEBW87"
   },
   "outputs": [],
   "source": [
    "import torch.utils.data as data\n",
    "import torchvision\n",
    "import torchvision.transforms as transforms\n",
    "from torchvision.utils import save_image, make_grid\n",
    "from torch.utils.data import DataLoader\n",
    "from torchvision import datasets\n",
    "from torch.autograd import Variable\n",
    "from torch.utils.data import DataLoader\n",
    "from torchvision import datasets\n",
    "import torch.nn as nn\n",
    "import torch.nn.functional as F\n",
    "import torch"
   ]
  },
  {
   "cell_type": "markdown",
   "metadata": {},
   "source": [
    "# Dataset"
   ]
  },
  {
   "cell_type": "code",
   "execution_count": null,
   "metadata": {
    "executionInfo": {
     "elapsed": 16,
     "status": "ok",
     "timestamp": 1676879832608,
     "user": {
      "displayName": "송준희",
      "userId": "03644037949885701202"
     },
     "user_tz": -540
    },
    "id": "jTeAPWOsC8BL"
   },
   "outputs": [],
   "source": [
    "root = \"C:/Users/piai/Desktop/work/CycleGAN_Project_1/datasets/horse2zebra/\"\n",
    "num_epochs = 100\n",
    "batchsize = 10\n",
    "lr_gen = 0.001\n",
    "lr_disc = 0.0005"
   ]
  },
  {
   "cell_type": "code",
   "execution_count": null,
   "metadata": {
    "executionInfo": {
     "elapsed": 15,
     "status": "ok",
     "timestamp": 1676879832608,
     "user": {
      "displayName": "송준희",
      "userId": "03644037949885701202"
     },
     "user_tz": -540
    },
    "id": "IgWpVj7uEfA4"
   },
   "outputs": [],
   "source": [
    "transform = transforms.Compose([transforms.Resize((256, 256)),\n",
    "                                transforms.ToTensor(),\n",
    "                                transforms.Normalize((0.5, 0.5, 0.5), (0.5, 0.5, 0.5))])\n",
    "trainset_A = torchvision.datasets.ImageFolder(root+'/train/trainA', transform)"
   ]
  },
  {
   "cell_type": "code",
   "execution_count": null,
   "metadata": {
    "executionInfo": {
     "elapsed": 329,
     "status": "ok",
     "timestamp": 1676879850443,
     "user": {
      "displayName": "송준희",
      "userId": "03644037949885701202"
     },
     "user_tz": -540
    },
    "id": "2nojO3_zOALS"
   },
   "outputs": [],
   "source": [
    "trainset_B = torchvision.datasets.ImageFolder(root = root+'/train/trainB', transform = transform)"
   ]
  },
  {
   "cell_type": "code",
   "execution_count": null,
   "metadata": {
    "executionInfo": {
     "elapsed": 3,
     "status": "ok",
     "timestamp": 1676879850732,
     "user": {
      "displayName": "송준희",
      "userId": "03644037949885701202"
     },
     "user_tz": -540
    },
    "id": "dApsK3--EfmM"
   },
   "outputs": [],
   "source": [
    "trainloader_A = DataLoader(trainset_A,\n",
    "                         batch_size = batchsize,\n",
    "                         shuffle = True,\n",
    "                         num_workers = 4)"
   ]
  },
  {
   "cell_type": "code",
   "execution_count": null,
   "metadata": {
    "executionInfo": {
     "elapsed": 2,
     "status": "ok",
     "timestamp": 1676879851462,
     "user": {
      "displayName": "송준희",
      "userId": "03644037949885701202"
     },
     "user_tz": -540
    },
    "id": "Y_Y9D86EOEA2"
   },
   "outputs": [],
   "source": [
    "trainloader_B = DataLoader(trainset_B,\n",
    "                         batch_size = batchsize,\n",
    "                         shuffle = True,\n",
    "                         num_workers = 4)"
   ]
  },
  {
   "cell_type": "code",
   "execution_count": null,
   "metadata": {
    "executionInfo": {
     "elapsed": 1386,
     "status": "ok",
     "timestamp": 1676879854772,
     "user": {
      "displayName": "송준희",
      "userId": "03644037949885701202"
     },
     "user_tz": -540
    },
    "id": "fR0-hq9MMmCY"
   },
   "outputs": [],
   "source": [
    "testset_A = torchvision.datasets.ImageFolder(root = root+\"/test/testA\", transform = transform)"
   ]
  },
  {
   "cell_type": "code",
   "execution_count": null,
   "metadata": {
    "executionInfo": {
     "elapsed": 457,
     "status": "ok",
     "timestamp": 1676879855225,
     "user": {
      "displayName": "송준희",
      "userId": "03644037949885701202"
     },
     "user_tz": -540
    },
    "id": "HmC--87TOT6C"
   },
   "outputs": [],
   "source": [
    "testset_B = torchvision.datasets.ImageFolder(root = root+\"/test/testB\", transform = transform)"
   ]
  },
  {
   "cell_type": "code",
   "execution_count": null,
   "metadata": {
    "executionInfo": {
     "elapsed": 5,
     "status": "ok",
     "timestamp": 1676879855226,
     "user": {
      "displayName": "송준희",
      "userId": "03644037949885701202"
     },
     "user_tz": -540
    },
    "id": "dqiBampbOVVa"
   },
   "outputs": [],
   "source": [
    "testloader_A = DataLoader(testset_A,\n",
    "                         batch_size = batchsize,\n",
    "                         shuffle = False,\n",
    "                         num_workers = 4)\n",
    "\n",
    "testloader_B = DataLoader(testset_B,\n",
    "                         batch_size = batchsize,\n",
    "                         shuffle = False,\n",
    "                         num_workers = 4)"
   ]
  },
  {
   "cell_type": "code",
   "execution_count": null,
   "metadata": {
    "executionInfo": {
     "elapsed": 4138,
     "status": "ok",
     "timestamp": 1676879862148,
     "user": {
      "displayName": "송준희",
      "userId": "03644037949885701202"
     },
     "user_tz": -540
    },
    "id": "aYBppwosS361"
   },
   "outputs": [],
   "source": [
    "sample_A = next(iter(trainloader_A))\n",
    "sample_B = next(iter(trainloader_B))"
   ]
  },
  {
   "cell_type": "code",
   "execution_count": null,
   "metadata": {
    "colab": {
     "base_uri": "https://localhost:8080/"
    },
    "executionInfo": {
     "elapsed": 45,
     "status": "ok",
     "timestamp": 1676879862149,
     "user": {
      "displayName": "송준희",
      "userId": "03644037949885701202"
     },
     "user_tz": -540
    },
    "id": "Pz7KJWyqUOFd",
    "outputId": "a0142114-b676-43a7-ad7b-b3bcedefadb9"
   },
   "outputs": [],
   "source": [
    "sample_A[0].shape"
   ]
  },
  {
   "cell_type": "code",
   "execution_count": null,
   "metadata": {
    "colab": {
     "base_uri": "https://localhost:8080/",
     "height": 234
    },
    "executionInfo": {
     "elapsed": 43,
     "status": "ok",
     "timestamp": 1676879862150,
     "user": {
      "displayName": "송준희",
      "userId": "03644037949885701202"
     },
     "user_tz": -540
    },
    "id": "4M9xoZ4hTSFU",
    "outputId": "6458819f-ebff-4f59-c43c-c4eb0bb6c2e2"
   },
   "outputs": [],
   "source": [
    "plt.subplot(121)\n",
    "plt.title('Pic')\n",
    "plt.imshow(sample_A[0].permute(0,2,3,1)[0] * 0.5 + 0.5)"
   ]
  },
  {
   "cell_type": "code",
   "execution_count": null,
   "metadata": {
    "executionInfo": {
     "elapsed": 4126,
     "status": "ok",
     "timestamp": 1676879871180,
     "user": {
      "displayName": "송준희",
      "userId": "03644037949885701202"
     },
     "user_tz": -540
    },
    "id": "k98lp5Q2Tmzq"
   },
   "outputs": [],
   "source": [
    "OUTPUT_CHANNELS = 3\n",
    "\n",
    "generator_g = pix2pix.unet_generator(OUTPUT_CHANNELS, norm_type='instancenorm')\n",
    "generator_f = pix2pix.unet_generator(OUTPUT_CHANNELS, norm_type='instancenorm')\n",
    "\n",
    "discriminator_x = pix2pix.discriminator(norm_type='instancenorm', target=False)\n",
    "discriminator_y = pix2pix.discriminator(norm_type='instancenorm', target=False)"
   ]
  },
  {
   "cell_type": "code",
   "execution_count": null,
   "metadata": {
    "executionInfo": {
     "elapsed": 2552,
     "status": "ok",
     "timestamp": 1676879873725,
     "user": {
      "displayName": "송준희",
      "userId": "03644037949885701202"
     },
     "user_tz": -540
    },
    "id": "0kacvS6tVURX"
   },
   "outputs": [],
   "source": [
    "to_B = generator_g(tf.reshape(sample_A[0].permute(0,2,3,1)[0], [1, 256, 256, 3]))\n",
    "to_A = generator_f(tf.reshape(sample_B[0].permute(0,2,3,1)[0], [1, 256, 256, 3]))"
   ]
  },
  {
   "cell_type": "code",
   "execution_count": null,
   "metadata": {
    "colab": {
     "base_uri": "https://localhost:8080/",
     "height": 536
    },
    "executionInfo": {
     "elapsed": 2017,
     "status": "ok",
     "timestamp": 1676879891718,
     "user": {
      "displayName": "송준희",
      "userId": "03644037949885701202"
     },
     "user_tz": -540
    },
    "id": "NVH2qU27VvU1",
    "outputId": "3091f838-09ca-40c8-8d36-f64f03508d60"
   },
   "outputs": [],
   "source": [
    "plt.figure(figsize=(8, 8))\n",
    "contrast = 8\n",
    "\n",
    "imgs = [tf.reshape(sample_A[0].permute(0,2,3,1)[0], [1, 256, 256, 3]), to_B, tf.reshape(sample_B[0].permute(0,2,3,1)[0], [1, 256, 256, 3]), to_A]\n",
    "title = ['A', 'To B', 'B', 'To A']\n",
    "\n",
    "\n",
    "for i in range(len(imgs)):\n",
    "  plt.subplot(2, 2, i+1)\n",
    "  plt.title(title[i])\n",
    "  if i % 2 == 0:\n",
    "    plt.imshow(imgs[i][0] * 0.5 + 0.5)\n",
    "  else:\n",
    "    plt.imshow(imgs[i][0] * 0.5 * contrast + 0.5)\n",
    "plt.show()"
   ]
  },
  {
   "cell_type": "markdown",
   "metadata": {},
   "source": [
    "# Loss"
   ]
  },
  {
   "cell_type": "code",
   "execution_count": null,
   "metadata": {
    "executionInfo": {
     "elapsed": 290,
     "status": "ok",
     "timestamp": 1676879896607,
     "user": {
      "displayName": "송준희",
      "userId": "03644037949885701202"
     },
     "user_tz": -540
    },
    "id": "mVxKHhpJV_Zb"
   },
   "outputs": [],
   "source": [
    "LAMBDA = 10\n",
    "loss_obj = tf.keras.losses.BinaryCrossentropy(from_logits=True)"
   ]
  },
  {
   "cell_type": "code",
   "execution_count": null,
   "metadata": {
    "executionInfo": {
     "elapsed": 295,
     "status": "ok",
     "timestamp": 1676879901169,
     "user": {
      "displayName": "송준희",
      "userId": "03644037949885701202"
     },
     "user_tz": -540
    },
    "id": "aQgtLR3IXYvU"
   },
   "outputs": [],
   "source": [
    "def discriminator_loss(real, generated):\n",
    "  real_loss = loss_obj(tf.ones_like(real), real)\n",
    "\n",
    "  generated_loss = loss_obj(tf.zeros_like(generated), generated)\n",
    "\n",
    "  total_disc_loss = real_loss + generated_loss\n",
    "\n",
    "  return total_disc_loss * 0.5"
   ]
  },
  {
   "cell_type": "code",
   "execution_count": null,
   "metadata": {
    "executionInfo": {
     "elapsed": 453,
     "status": "ok",
     "timestamp": 1676879902080,
     "user": {
      "displayName": "송준희",
      "userId": "03644037949885701202"
     },
     "user_tz": -540
    },
    "id": "Sqgfm0liXaHl"
   },
   "outputs": [],
   "source": [
    "def generator_loss(generated):\n",
    "  return loss_obj(tf.ones_like(generated), generated)"
   ]
  },
  {
   "cell_type": "code",
   "execution_count": null,
   "metadata": {
    "executionInfo": {
     "elapsed": 2,
     "status": "ok",
     "timestamp": 1676879903856,
     "user": {
      "displayName": "송준희",
      "userId": "03644037949885701202"
     },
     "user_tz": -540
    },
    "id": "Glor7xI1XbYr"
   },
   "outputs": [],
   "source": [
    "def calc_cycle_loss(real_image, cycled_image):\n",
    "  loss1 = tf.reduce_mean(tf.abs(real_image - cycled_image))\n",
    "  \n",
    "  return LAMBDA * loss1"
   ]
  },
  {
   "cell_type": "code",
   "execution_count": null,
   "metadata": {
    "executionInfo": {
     "elapsed": 2,
     "status": "ok",
     "timestamp": 1676879904158,
     "user": {
      "displayName": "송준희",
      "userId": "03644037949885701202"
     },
     "user_tz": -540
    },
    "id": "Q04eeX1_Xchz"
   },
   "outputs": [],
   "source": [
    "def identity_loss(real_image, same_image):\n",
    "  loss = tf.reduce_mean(tf.abs(real_image - same_image))\n",
    "  return LAMBDA * 0.5 * loss"
   ]
  },
  {
   "cell_type": "code",
   "execution_count": null,
   "metadata": {
    "executionInfo": {
     "elapsed": 3,
     "status": "ok",
     "timestamp": 1676879905622,
     "user": {
      "displayName": "송준희",
      "userId": "03644037949885701202"
     },
     "user_tz": -540
    },
    "id": "nXwyg2uNXdsU"
   },
   "outputs": [],
   "source": [
    "generator_g_optimizer = tf.keras.optimizers.Adam(lr_gen, beta_1=0.5)\n",
    "generator_f_optimizer = tf.keras.optimizers.Adam(lr_gen, beta_1=0.5)\n",
    "\n",
    "discriminator_x_optimizer = tf.keras.optimizers.Adam(lr_disc, beta_1=0.5)\n",
    "discriminator_y_optimizer = tf.keras.optimizers.Adam(lr_disc, beta_1=0.5)"
   ]
  },
  {
   "cell_type": "code",
   "execution_count": null,
   "metadata": {
    "executionInfo": {
     "elapsed": 3,
     "status": "ok",
     "timestamp": 1676879905921,
     "user": {
      "displayName": "송준희",
      "userId": "03644037949885701202"
     },
     "user_tz": -540
    },
    "id": "HngnXDxRuF_w"
   },
   "outputs": [],
   "source": [
    "train_G_loss = tf.keras.metrics.Mean()\n",
    "train_D_loss = tf.keras.metrics.Mean()\n",
    "train_acc = tf.keras.metrics.SparseCategoricalAccuracy()\n",
    "test_loss = tf.keras.metrics.Mean()\n",
    "test_acc = tf.keras.metrics.SparseCategoricalAccuracy()"
   ]
  },
  {
   "cell_type": "code",
   "execution_count": null,
   "metadata": {
    "colab": {
     "base_uri": "https://localhost:8080/",
     "height": 90
    },
    "executionInfo": {
     "elapsed": 4,
     "status": "ok",
     "timestamp": 1676879906875,
     "user": {
      "displayName": "송준희",
      "userId": "03644037949885701202"
     },
     "user_tz": -540
    },
    "id": "lf_KowtaXe6O",
    "outputId": "c919a5d3-cdec-4eed-c897-49a2927a4402"
   },
   "outputs": [],
   "source": [
    "\"\"\"checkpoint_path = \"./checkpoints/train\"\n",
    "\n",
    "ckpt = tf.train.Checkpoint(generator_g=generator_g,\n",
    "                           generator_f=generator_f,\n",
    "                           discriminator_x=discriminator_x,\n",
    "                           discriminator_y=discriminator_y,\n",
    "                           generator_g_optimizer=generator_g_optimizer,\n",
    "                           generator_f_optimizer=generator_f_optimizer,\n",
    "                           discriminator_x_optimizer=discriminator_x_optimizer,\n",
    "                           discriminator_y_optimizer=discriminator_y_optimizer)\n",
    "\n",
    "ckpt_manager = tf.train.CheckpointManager(ckpt, checkpoint_path, max_to_keep=5)\n",
    "\n",
    "# if a checkpoint exists, restore the latest checkpoint.\n",
    "if ckpt_manager.latest_checkpoint:\n",
    "  ckpt.restore(ckpt_manager.latest_checkpoint)\n",
    "  print ('Latest checkpoint restored!!')\"\"\""
   ]
  },
  {
   "cell_type": "markdown",
   "metadata": {},
   "source": [
    "# Model"
   ]
  },
  {
   "cell_type": "code",
   "execution_count": null,
   "metadata": {
    "executionInfo": {
     "elapsed": 4,
     "status": "ok",
     "timestamp": 1676879910595,
     "user": {
      "displayName": "송준희",
      "userId": "03644037949885701202"
     },
     "user_tz": -540
    },
    "id": "eqaPCTnaXg45"
   },
   "outputs": [],
   "source": [
    "EPOCHS = num_epochs"
   ]
  },
  {
   "cell_type": "code",
   "execution_count": null,
   "metadata": {
    "executionInfo": {
     "elapsed": 5,
     "status": "ok",
     "timestamp": 1676879911319,
     "user": {
      "displayName": "송준희",
      "userId": "03644037949885701202"
     },
     "user_tz": -540
    },
    "id": "yr9ycfdgXhxC"
   },
   "outputs": [],
   "source": [
    "def generate_images(model, test_input):\n",
    "  prediction = model(test_input)\n",
    "    \n",
    "  plt.figure(figsize=(12, 12))\n",
    "\n",
    "  display_list = [test_input[0], prediction[0]]\n",
    "  title = ['Input Image', 'Predicted Image']\n",
    "\n",
    "  for i in range(2):\n",
    "    plt.subplot(1, 2, i+1)\n",
    "    plt.title(title[i])\n",
    "    # getting the pixel values between [0, 1] to plot it.\n",
    "    plt.imshow(display_list[i] * 0.5 + 0.5)\n",
    "    plt.axis('off')\n",
    "  plt.show()"
   ]
  },
  {
   "cell_type": "code",
   "execution_count": null,
   "metadata": {
    "executionInfo": {
     "elapsed": 2,
     "status": "ok",
     "timestamp": 1676879913206,
     "user": {
      "displayName": "송준희",
      "userId": "03644037949885701202"
     },
     "user_tz": -540
    },
    "id": "Gwmfb6VKXjI0"
   },
   "outputs": [],
   "source": [
    "@tf.function\n",
    "def train_step(real_x, real_y):\n",
    "  # persistent is set to True because the tape is used more than\n",
    "  # once to calculate the gradients.\n",
    "  with tf.GradientTape(persistent=True) as tape:\n",
    "    # Generator G translates X -> Y\n",
    "    # Generator F translates Y -> X.\n",
    "    \n",
    "    fake_y = generator_g(real_x, training=True)\n",
    "    cycled_x = generator_f(fake_y, training=True)\n",
    "\n",
    "    fake_x = generator_f(real_y, training=True)\n",
    "    cycled_y = generator_g(fake_x, training=True)\n",
    "\n",
    "    # same_x and same_y are used for identity loss.\n",
    "    same_x = generator_f(real_x, training=True)\n",
    "    same_y = generator_g(real_y, training=True)\n",
    "\n",
    "    disc_real_x = discriminator_x(real_x, training=True)\n",
    "    disc_real_y = discriminator_y(real_y, training=True)\n",
    "\n",
    "    disc_fake_x = discriminator_x(fake_x, training=True)\n",
    "    disc_fake_y = discriminator_y(fake_y, training=True)\n",
    "\n",
    "    # calculate the loss\n",
    "    gen_g_loss = generator_loss(disc_fake_y)\n",
    "    gen_f_loss = generator_loss(disc_fake_x)\n",
    "    \n",
    "    total_cycle_loss = calc_cycle_loss(real_x, cycled_x) + calc_cycle_loss(real_y, cycled_y)\n",
    "    \n",
    "    # Total generator loss = adversarial loss + cycle loss\n",
    "    total_gen_g_loss = gen_g_loss + total_cycle_loss + identity_loss(real_y, same_y)\n",
    "    total_gen_f_loss = gen_f_loss + total_cycle_loss + identity_loss(real_x, same_x)\n",
    "\n",
    "    disc_x_loss = discriminator_loss(disc_real_x, disc_fake_x)\n",
    "    disc_y_loss = discriminator_loss(disc_real_y, disc_fake_y)\n",
    "  \n",
    "  # Calculate the gradients for generator and discriminator\n",
    "  generator_g_gradients = tape.gradient(total_gen_g_loss, \n",
    "                                        generator_g.trainable_variables)\n",
    "  generator_f_gradients = tape.gradient(total_gen_f_loss, \n",
    "                                        generator_f.trainable_variables)\n",
    "  \n",
    "  discriminator_x_gradients = tape.gradient(disc_x_loss, \n",
    "                                            discriminator_x.trainable_variables)\n",
    "  discriminator_y_gradients = tape.gradient(disc_y_loss, \n",
    "                                            discriminator_y.trainable_variables)\n",
    "  \n",
    "  # Apply the gradients to the optimizer\n",
    "  generator_g_optimizer.apply_gradients(zip(generator_g_gradients, \n",
    "                                            generator_g.trainable_variables))\n",
    "\n",
    "  generator_f_optimizer.apply_gradients(zip(generator_f_gradients, \n",
    "                                            generator_f.trainable_variables))\n",
    "  \n",
    "  discriminator_x_optimizer.apply_gradients(zip(discriminator_x_gradients,\n",
    "                                                discriminator_x.trainable_variables))\n",
    "  \n",
    "  discriminator_y_optimizer.apply_gradients(zip(discriminator_y_gradients,\n",
    "                                                discriminator_y.trainable_variables))\n",
    "  \n",
    "  train_G_loss(total_gen_g_loss)\n",
    "  train_D_loss(disc_y_loss)"
   ]
  },
  {
   "cell_type": "code",
   "execution_count": null,
   "metadata": {
    "colab": {
     "base_uri": "https://localhost:8080/",
     "height": 406,
     "referenced_widgets": [
      "856ee8136d814652a8bcb6ab15a2d5fb",
      "c4b587694c554bf0975a6b6443aade2c",
      "ed57fd0640144e54ab16e67515417f4d",
      "4b8efa455d984b66ba6edc8d56e2f683",
      "cac7075db2ec42eab5d73718d5f5cc9c",
      "df65b010be084375914a32cc1252ef2c",
      "a6be76f32d734f67950f13f63d37c30f",
      "d0671b8107e4411c89ffbfd4fb95e652",
      "dd3a3c16db4245fe900a2485e14afa64",
      "10ac562dca32474f9d5c4e0a520a1936",
      "e743330c93814fe5be769d1a177272fe"
     ]
    },
    "executionInfo": {
     "elapsed": 108276,
     "status": "ok",
     "timestamp": 1676880023431,
     "user": {
      "displayName": "송준희",
      "userId": "03644037949885701202"
     },
     "user_tz": -540
    },
    "id": "neXxHMCcUokg",
    "outputId": "2aedce1c-b731-44b1-e8f0-e77e84df73b6"
   },
   "outputs": [],
   "source": [
    "from tqdm.notebook import tqdm\n",
    "\n",
    "g=[]\n",
    "d=[]\n",
    "\n",
    "for epoch in tqdm(range(EPOCHS)):\n",
    "  start = time.time()\n",
    "\n",
    "  n = 0\n",
    "  for i, (image_x, image_y) in enumerate(zip(trainloader_A, trainloader_B)):\n",
    "    image_x = tf.reshape(image_x[0].permute(0,2,3,1)[0], [1, 256, 256, 3])\n",
    "    image_y = tf.reshape(image_y[0].permute(0,2,3,1)[0], [1, 256, 256, 3])\n",
    "    train_step(image_x, image_y)\n",
    "    \n",
    "    if n % 100 == 0:\n",
    "      print ('.', end='')\n",
    "    n += 1\n",
    "\n",
    "  print (\"Epoch {} generation loss : \".format(epoch), g)\n",
    "  print (\"Epoch {} discrimination loss : \".format(epoch), d)\n",
    "\n",
    "  clear_output(wait=True)\n",
    "  # Using a consistent image (sample_horse) so that the progress of the model\n",
    "  # is clearly visible.\n",
    "\n",
    "  generate_images(generator_g, tf.reshape(sample_A[0].permute(0,2,3,1)[0], [1, 256, 256, 3]))\n",
    "  \n",
    "\n",
    "  print ('Time taken for epoch {} is {} sec\\n'.format(epoch + 1,\n",
    "                                                      time.time()-start))\n",
    "  g.append(train_G_loss.result())\n",
    "  d.append(train_D_loss.result())\n",
    "  print (\"Epoch {} generation loss: {} disrtimination loss : {}\".format(epoch+1, train_G_loss.result(), train_D_loss.result()))"
   ]
  },
  {
   "cell_type": "code",
   "execution_count": null,
   "metadata": {
    "colab": {
     "base_uri": "https://localhost:8080/",
     "height": 313
    },
    "executionInfo": {
     "elapsed": 1268,
     "status": "ok",
     "timestamp": 1676880024662,
     "user": {
      "displayName": "송준희",
      "userId": "03644037949885701202"
     },
     "user_tz": -540
    },
    "id": "G9tvDaMSykfh",
    "outputId": "0313fe77-e7d4-4418-9fe3-c59b74280580"
   },
   "outputs": [],
   "source": [
    "plt.title(\"Generator Loss per iterations\")\n",
    "plt.xlabel(\"Epochs\")\n",
    "plt.ylabel(\"Generator Loss\")\n",
    "plt.plot(g)"
   ]
  },
  {
   "cell_type": "code",
   "execution_count": null,
   "metadata": {
    "colab": {
     "base_uri": "https://localhost:8080/",
     "height": 313
    },
    "executionInfo": {
     "elapsed": 27,
     "status": "ok",
     "timestamp": 1676880024663,
     "user": {
      "displayName": "송준희",
      "userId": "03644037949885701202"
     },
     "user_tz": -540
    },
    "id": "_H1DfhuB1tMX",
    "outputId": "3e86ac86-19cc-4c59-bffc-5504440ea434"
   },
   "outputs": [],
   "source": [
    "plt.title(\"Discriminator Loss per iterations\")\n",
    "plt.xlabel(\"Epochs\")\n",
    "plt.ylabel(\"Discriminator Loss\")\n",
    "plt.plot(d)"
   ]
  },
  {
   "cell_type": "markdown",
   "metadata": {
    "id": "Pmzu4GAnZH_9"
   },
   "source": [
    "Generation"
   ]
  },
  {
   "cell_type": "code",
   "execution_count": null,
   "metadata": {
    "colab": {
     "base_uri": "https://localhost:8080/",
     "height": 1000,
     "output_embedded_package_id": "1uGhSElrzHSS8U82BHLmcwhwr6ZgsUoFB"
    },
    "executionInfo": {
     "elapsed": 11488,
     "status": "ok",
     "timestamp": 1676880893931,
     "user": {
      "displayName": "송준희",
      "userId": "03644037949885701202"
     },
     "user_tz": -540
    },
    "id": "4c5JMex_zkeT",
    "outputId": "9fca5376-2d95-43f5-d71c-c72ad724fb37"
   },
   "outputs": [],
   "source": [
    "testloader_A = DataLoader(testset_A,\n",
    "                         batch_size = 1,\n",
    "                         shuffle = False,\n",
    "                         num_workers = 4)\n",
    "\n",
    "for i, image in enumerate(testloader_A):\n",
    "  image = tf.reshape(image[0].permute(0,2,3,1)[0], [1, 256, 256, 3])\n",
    "  generate_images(generator_g, image)\n",
    "  plt.savefig('output/output_image/horse2zebra'+str(format(i, '02'))+'.png')\n",
    "\n",
    "  if i == 19:\n",
    "    break"
   ]
  },
  {
   "cell_type": "code",
   "execution_count": null,
   "metadata": {
    "id": "_MO9t_AzJQfj"
   },
   "outputs": [],
   "source": [
    "# yonseiset = torchvision.datasets.ImageFolder(root = root+\"/yonsei\", transform = transform)"
   ]
  },
  {
   "cell_type": "code",
   "execution_count": null,
   "metadata": {
    "id": "Dhi7_jZ_JSEl"
   },
   "outputs": [],
   "source": [
    "# yonseiloader = DataLoader(yonseiset,\n",
    "#                          batch_size = 1,\n",
    "#                          shuffle = False,\n",
    "#                          num_workers = 4)\n",
    "\n",
    "# for i, image in enumerate(yonseiloader):\n",
    "#   image = tf.reshape(image[0].permute(0,2,3,1)[0], [1, 256, 256, 3])\n",
    "#   generate_images(generator_g, image)"
   ]
  },
  {
   "cell_type": "code",
   "execution_count": null,
   "metadata": {
    "id": "UPkZ4pqsL1IU"
   },
   "outputs": [],
   "source": []
  }
 ],
 "metadata": {
  "accelerator": "GPU",
  "colab": {
   "machine_shape": "hm",
   "provenance": []
  },
  "gpuClass": "standard",
  "interpreter": {
   "hash": "1928e560e84eb5f4e4f3643b45f846dcaa924ac5eca176ccfbe801d5c249de7e"
  },
  "kernelspec": {
   "display_name": "GAN",
   "language": "python",
   "name": "gan"
  },
  "language_info": {
   "codemirror_mode": {
    "name": "ipython",
    "version": 3
   },
   "file_extension": ".py",
   "mimetype": "text/x-python",
   "name": "python",
   "nbconvert_exporter": "python",
   "pygments_lexer": "ipython3",
   "version": "3.8.16"
  },
  "widgets": {
   "application/vnd.jupyter.widget-state+json": {
    "10ac562dca32474f9d5c4e0a520a1936": {
     "model_module": "@jupyter-widgets/base",
     "model_module_version": "1.2.0",
     "model_name": "LayoutModel",
     "state": {
      "_model_module": "@jupyter-widgets/base",
      "_model_module_version": "1.2.0",
      "_model_name": "LayoutModel",
      "_view_count": null,
      "_view_module": "@jupyter-widgets/base",
      "_view_module_version": "1.2.0",
      "_view_name": "LayoutView",
      "align_content": null,
      "align_items": null,
      "align_self": null,
      "border": null,
      "bottom": null,
      "display": null,
      "flex": null,
      "flex_flow": null,
      "grid_area": null,
      "grid_auto_columns": null,
      "grid_auto_flow": null,
      "grid_auto_rows": null,
      "grid_column": null,
      "grid_gap": null,
      "grid_row": null,
      "grid_template_areas": null,
      "grid_template_columns": null,
      "grid_template_rows": null,
      "height": null,
      "justify_content": null,
      "justify_items": null,
      "left": null,
      "margin": null,
      "max_height": null,
      "max_width": null,
      "min_height": null,
      "min_width": null,
      "object_fit": null,
      "object_position": null,
      "order": null,
      "overflow": null,
      "overflow_x": null,
      "overflow_y": null,
      "padding": null,
      "right": null,
      "top": null,
      "visibility": null,
      "width": null
     }
    },
    "4b8efa455d984b66ba6edc8d56e2f683": {
     "model_module": "@jupyter-widgets/controls",
     "model_module_version": "1.5.0",
     "model_name": "HTMLModel",
     "state": {
      "_dom_classes": [],
      "_model_module": "@jupyter-widgets/controls",
      "_model_module_version": "1.5.0",
      "_model_name": "HTMLModel",
      "_view_count": null,
      "_view_module": "@jupyter-widgets/controls",
      "_view_module_version": "1.5.0",
      "_view_name": "HTMLView",
      "description": "",
      "description_tooltip": null,
      "layout": "IPY_MODEL_10ac562dca32474f9d5c4e0a520a1936",
      "placeholder": "​",
      "style": "IPY_MODEL_e743330c93814fe5be769d1a177272fe",
      "value": " 10/10 [01:47&lt;00:00,  7.66s/it]"
     }
    },
    "856ee8136d814652a8bcb6ab15a2d5fb": {
     "model_module": "@jupyter-widgets/controls",
     "model_module_version": "1.5.0",
     "model_name": "HBoxModel",
     "state": {
      "_dom_classes": [],
      "_model_module": "@jupyter-widgets/controls",
      "_model_module_version": "1.5.0",
      "_model_name": "HBoxModel",
      "_view_count": null,
      "_view_module": "@jupyter-widgets/controls",
      "_view_module_version": "1.5.0",
      "_view_name": "HBoxView",
      "box_style": "",
      "children": [
       "IPY_MODEL_c4b587694c554bf0975a6b6443aade2c",
       "IPY_MODEL_ed57fd0640144e54ab16e67515417f4d",
       "IPY_MODEL_4b8efa455d984b66ba6edc8d56e2f683"
      ],
      "layout": "IPY_MODEL_cac7075db2ec42eab5d73718d5f5cc9c"
     }
    },
    "a6be76f32d734f67950f13f63d37c30f": {
     "model_module": "@jupyter-widgets/controls",
     "model_module_version": "1.5.0",
     "model_name": "DescriptionStyleModel",
     "state": {
      "_model_module": "@jupyter-widgets/controls",
      "_model_module_version": "1.5.0",
      "_model_name": "DescriptionStyleModel",
      "_view_count": null,
      "_view_module": "@jupyter-widgets/base",
      "_view_module_version": "1.2.0",
      "_view_name": "StyleView",
      "description_width": ""
     }
    },
    "c4b587694c554bf0975a6b6443aade2c": {
     "model_module": "@jupyter-widgets/controls",
     "model_module_version": "1.5.0",
     "model_name": "HTMLModel",
     "state": {
      "_dom_classes": [],
      "_model_module": "@jupyter-widgets/controls",
      "_model_module_version": "1.5.0",
      "_model_name": "HTMLModel",
      "_view_count": null,
      "_view_module": "@jupyter-widgets/controls",
      "_view_module_version": "1.5.0",
      "_view_name": "HTMLView",
      "description": "",
      "description_tooltip": null,
      "layout": "IPY_MODEL_df65b010be084375914a32cc1252ef2c",
      "placeholder": "​",
      "style": "IPY_MODEL_a6be76f32d734f67950f13f63d37c30f",
      "value": "100%"
     }
    },
    "cac7075db2ec42eab5d73718d5f5cc9c": {
     "model_module": "@jupyter-widgets/base",
     "model_module_version": "1.2.0",
     "model_name": "LayoutModel",
     "state": {
      "_model_module": "@jupyter-widgets/base",
      "_model_module_version": "1.2.0",
      "_model_name": "LayoutModel",
      "_view_count": null,
      "_view_module": "@jupyter-widgets/base",
      "_view_module_version": "1.2.0",
      "_view_name": "LayoutView",
      "align_content": null,
      "align_items": null,
      "align_self": null,
      "border": null,
      "bottom": null,
      "display": null,
      "flex": null,
      "flex_flow": null,
      "grid_area": null,
      "grid_auto_columns": null,
      "grid_auto_flow": null,
      "grid_auto_rows": null,
      "grid_column": null,
      "grid_gap": null,
      "grid_row": null,
      "grid_template_areas": null,
      "grid_template_columns": null,
      "grid_template_rows": null,
      "height": null,
      "justify_content": null,
      "justify_items": null,
      "left": null,
      "margin": null,
      "max_height": null,
      "max_width": null,
      "min_height": null,
      "min_width": null,
      "object_fit": null,
      "object_position": null,
      "order": null,
      "overflow": null,
      "overflow_x": null,
      "overflow_y": null,
      "padding": null,
      "right": null,
      "top": null,
      "visibility": null,
      "width": null
     }
    },
    "d0671b8107e4411c89ffbfd4fb95e652": {
     "model_module": "@jupyter-widgets/base",
     "model_module_version": "1.2.0",
     "model_name": "LayoutModel",
     "state": {
      "_model_module": "@jupyter-widgets/base",
      "_model_module_version": "1.2.0",
      "_model_name": "LayoutModel",
      "_view_count": null,
      "_view_module": "@jupyter-widgets/base",
      "_view_module_version": "1.2.0",
      "_view_name": "LayoutView",
      "align_content": null,
      "align_items": null,
      "align_self": null,
      "border": null,
      "bottom": null,
      "display": null,
      "flex": null,
      "flex_flow": null,
      "grid_area": null,
      "grid_auto_columns": null,
      "grid_auto_flow": null,
      "grid_auto_rows": null,
      "grid_column": null,
      "grid_gap": null,
      "grid_row": null,
      "grid_template_areas": null,
      "grid_template_columns": null,
      "grid_template_rows": null,
      "height": null,
      "justify_content": null,
      "justify_items": null,
      "left": null,
      "margin": null,
      "max_height": null,
      "max_width": null,
      "min_height": null,
      "min_width": null,
      "object_fit": null,
      "object_position": null,
      "order": null,
      "overflow": null,
      "overflow_x": null,
      "overflow_y": null,
      "padding": null,
      "right": null,
      "top": null,
      "visibility": null,
      "width": null
     }
    },
    "dd3a3c16db4245fe900a2485e14afa64": {
     "model_module": "@jupyter-widgets/controls",
     "model_module_version": "1.5.0",
     "model_name": "ProgressStyleModel",
     "state": {
      "_model_module": "@jupyter-widgets/controls",
      "_model_module_version": "1.5.0",
      "_model_name": "ProgressStyleModel",
      "_view_count": null,
      "_view_module": "@jupyter-widgets/base",
      "_view_module_version": "1.2.0",
      "_view_name": "StyleView",
      "bar_color": null,
      "description_width": ""
     }
    },
    "df65b010be084375914a32cc1252ef2c": {
     "model_module": "@jupyter-widgets/base",
     "model_module_version": "1.2.0",
     "model_name": "LayoutModel",
     "state": {
      "_model_module": "@jupyter-widgets/base",
      "_model_module_version": "1.2.0",
      "_model_name": "LayoutModel",
      "_view_count": null,
      "_view_module": "@jupyter-widgets/base",
      "_view_module_version": "1.2.0",
      "_view_name": "LayoutView",
      "align_content": null,
      "align_items": null,
      "align_self": null,
      "border": null,
      "bottom": null,
      "display": null,
      "flex": null,
      "flex_flow": null,
      "grid_area": null,
      "grid_auto_columns": null,
      "grid_auto_flow": null,
      "grid_auto_rows": null,
      "grid_column": null,
      "grid_gap": null,
      "grid_row": null,
      "grid_template_areas": null,
      "grid_template_columns": null,
      "grid_template_rows": null,
      "height": null,
      "justify_content": null,
      "justify_items": null,
      "left": null,
      "margin": null,
      "max_height": null,
      "max_width": null,
      "min_height": null,
      "min_width": null,
      "object_fit": null,
      "object_position": null,
      "order": null,
      "overflow": null,
      "overflow_x": null,
      "overflow_y": null,
      "padding": null,
      "right": null,
      "top": null,
      "visibility": null,
      "width": null
     }
    },
    "e743330c93814fe5be769d1a177272fe": {
     "model_module": "@jupyter-widgets/controls",
     "model_module_version": "1.5.0",
     "model_name": "DescriptionStyleModel",
     "state": {
      "_model_module": "@jupyter-widgets/controls",
      "_model_module_version": "1.5.0",
      "_model_name": "DescriptionStyleModel",
      "_view_count": null,
      "_view_module": "@jupyter-widgets/base",
      "_view_module_version": "1.2.0",
      "_view_name": "StyleView",
      "description_width": ""
     }
    },
    "ed57fd0640144e54ab16e67515417f4d": {
     "model_module": "@jupyter-widgets/controls",
     "model_module_version": "1.5.0",
     "model_name": "FloatProgressModel",
     "state": {
      "_dom_classes": [],
      "_model_module": "@jupyter-widgets/controls",
      "_model_module_version": "1.5.0",
      "_model_name": "FloatProgressModel",
      "_view_count": null,
      "_view_module": "@jupyter-widgets/controls",
      "_view_module_version": "1.5.0",
      "_view_name": "ProgressView",
      "bar_style": "success",
      "description": "",
      "description_tooltip": null,
      "layout": "IPY_MODEL_d0671b8107e4411c89ffbfd4fb95e652",
      "max": 10,
      "min": 0,
      "orientation": "horizontal",
      "style": "IPY_MODEL_dd3a3c16db4245fe900a2485e14afa64",
      "value": 10
     }
    }
   }
  }
 },
 "nbformat": 4,
 "nbformat_minor": 1
}
