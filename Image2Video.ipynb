{
 "cells": [
  {
   "cell_type": "code",
   "execution_count": 13,
   "id": "3efa6a82",
   "metadata": {},
   "outputs": [],
   "source": [
    "import cv2\n",
    "import os\n",
    "import re"
   ]
  },
  {
   "cell_type": "code",
   "execution_count": 14,
   "id": "2905f734",
   "metadata": {},
   "outputs": [
    {
     "name": "stdout",
     "output_type": "stream",
     "text": [
      "C:\\Users\\piai\\Desktop\\work\\CycleGAN_project\n"
     ]
    }
   ],
   "source": [
    "%cd C:\\Users\\piai\\Desktop\\work\\CycleGAN_project"
   ]
  },
  {
   "cell_type": "code",
   "execution_count": 15,
   "id": "12d8840c",
   "metadata": {},
   "outputs": [],
   "source": [
    "pathIn= './output/PN2PG/A/'\n",
    "pathOut = './output/PN2PG/Fortnite2PUBG.mp4'\n",
    "fps = 30\n",
    "frame_array = []\n",
    "paths = [os.path.join(pathIn, i) for i in os.listdir(pathIn) if re.search(\".png$\", i)]\n",
    "for idx , path in enumerate(paths) : \n",
    "    if (idx % 2 == 0) | (idx % 5 == 0) :\n",
    "        continue\n",
    "    img = cv2.imread(path)\n",
    "    height, width, layers = img.shape\n",
    "    size = (width,height)\n",
    "    frame_array.append(img)\n",
    "out = cv2.VideoWriter(pathOut,cv2.VideoWriter_fourcc(*'DIVX'), fps, size)\n",
    "for i in range(len(frame_array)):\n",
    "    # writing to a image array\n",
    "    out.write(frame_array[i])\n",
    "out.release()"
   ]
  },
  {
   "cell_type": "code",
   "execution_count": 16,
   "id": "116908ca",
   "metadata": {},
   "outputs": [],
   "source": [
    "pathIn= './output/PN2PG/B/'\n",
    "pathOut = './output/PN2PG/PUBG2Fortnite.mp4'\n",
    "fps = 30\n",
    "frame_array = []\n",
    "paths = [os.path.join(pathIn, i) for i in os.listdir(pathIn) if re.search(\".png$\", i)]\n",
    "for idx , path in enumerate(paths) : \n",
    "    if (idx % 2 == 0) | (idx % 5 == 0) :\n",
    "        continue\n",
    "    img = cv2.imread(path)\n",
    "    height, width, layers = img.shape\n",
    "    size = (width,height)\n",
    "    frame_array.append(img)\n",
    "out = cv2.VideoWriter(pathOut,cv2.VideoWriter_fourcc(*'DIVX'), fps, size)\n",
    "for i in range(len(frame_array)):\n",
    "    # writing to a image array\n",
    "    out.write(frame_array[i])\n",
    "out.release()"
   ]
  },
  {
   "cell_type": "code",
   "execution_count": null,
   "id": "df41d556",
   "metadata": {},
   "outputs": [],
   "source": []
  }
 ],
 "metadata": {
  "kernelspec": {
   "display_name": "yolov5",
   "language": "python",
   "name": "yolov5"
  },
  "language_info": {
   "codemirror_mode": {
    "name": "ipython",
    "version": 3
   },
   "file_extension": ".py",
   "mimetype": "text/x-python",
   "name": "python",
   "nbconvert_exporter": "python",
   "pygments_lexer": "ipython3",
   "version": "3.8.16"
  }
 },
 "nbformat": 4,
 "nbformat_minor": 5
}
